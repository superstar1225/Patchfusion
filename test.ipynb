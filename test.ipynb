{
 "cells": [
  {
   "cell_type": "code",
   "execution_count": 2,
   "metadata": {},
   "outputs": [],
   "source": [
    "import os\n",
    "import os.path as osp\n",
    "import argparse\n",
    "import torch\n",
    "import time\n",
    "from torch.utils.data import DataLoader\n",
    "from mmengine.utils import mkdir_or_exist\n",
    "from mmengine.config import Config, DictAction\n",
    "from mmengine.logging import MMLogger\n",
    "\n",
    "import matplotlib.pyplot as plt\n",
    "import torch.nn.functional as F\n",
    "import torchvision.transforms as T\n",
    "from PIL import Image\n",
    "from kornia.filters import gaussian_blur2d\n",
    "from omegaconf import DictConfig, OmegaConf\n",
    "from pytorch_lightning import seed_everything\n",
    "from torch.utils.data import DataLoader, Subset\n",
    "from torch.utils.tensorboard import SummaryWriter\n",
    "from torchmetrics.functional.regression import explained_variance\n",
    "from tqdm import tqdm\n",
    "\n",
    "from estimator.utils import RunnerInfo, setup_env, log_env, fix_random_seed\n",
    "from estimator.models.builder import build_model\n",
    "from estimator.datasets.builder import build_dataset\n",
    "from estimator.tester import Tester\n",
    "from estimator.models.featup import featup\n",
    "from mmengine import print_log\n",
    "\n",
    "from external.featup.datasets.JitteredImage import JitteredImage, apply_jitter\n",
    "from external.featup.datasets.util import get_dataset, SlicedDataset\n",
    "from external.featup.downsamplers import SimpleDownsampler, AttentionDownsampler\n",
    "from external.featup.featurizers.util import get_featurizer\n",
    "from external.featup.layers import ImplicitFeaturizer, MinMaxScaler, ChannelNorm\n",
    "from external.featup.losses import total_variation\n",
    "from external.featup.util import (norm as reg_norm, unnorm as reg_unorm, generate_subset,\n",
    "                         midas_norm, midas_unnorm, pca, PCAUnprojector, prep_image)\n",
    "\n",
    "torch.multiprocessing.set_sharing_strategy('file_system')"
   ]
  },
  {
   "cell_type": "code",
   "execution_count": null,
   "metadata": {},
   "outputs": [],
   "source": []
  }
 ],
 "metadata": {
  "kernelspec": {
   "display_name": "Python 3",
   "language": "python",
   "name": "python3"
  },
  "language_info": {
   "codemirror_mode": {
    "name": "ipython",
    "version": 3
   },
   "file_extension": ".py",
   "mimetype": "text/x-python",
   "name": "python",
   "nbconvert_exporter": "python",
   "pygments_lexer": "ipython3",
   "version": "3.10.9"
  }
 },
 "nbformat": 4,
 "nbformat_minor": 2
}
